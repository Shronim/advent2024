{
 "cells": [
  {
   "cell_type": "code",
   "execution_count": 1,
   "metadata": {},
   "outputs": [],
   "source": [
    "import re\n",
    "import numpy as np"
   ]
  },
  {
   "cell_type": "code",
   "execution_count": 2,
   "metadata": {},
   "outputs": [],
   "source": [
    "with open('advent2024_4.txt') as file:\n",
    "    data = file.read().splitlines()"
   ]
  },
  {
   "cell_type": "code",
   "execution_count": 3,
   "metadata": {},
   "outputs": [],
   "source": [
    "def text_to_matrix(text):\n",
    "    return [list(row) for row in text]\n",
    "\n",
    "def matrix_to_text(matrix):\n",
    "    return [''.join(row) for row in matrix]\n",
    "\n",
    "def transpose(matrix):\n",
    "    return np.array(matrix).T.tolist()\n",
    "\n",
    "def diagonal_matrix(matrix):\n",
    "    len_y = len(matrix[0]) + len(matrix) - 1\n",
    "    len_x = len(matrix)\n",
    "    matrix = np.array([list(row) for row in matrix])\n",
    "    diagonal_matrix = np.zeros((len_x, len_y), dtype=str)\n",
    "    for i in range(len_x):\n",
    "        for j in range(len_y):\n",
    "            if j >= i and j < i + len(matrix[0]):\n",
    "                diagonal_matrix[i][j] = matrix[i][j - i]\n",
    "            else:\n",
    "                diagonal_matrix[i][j] = '.'\n",
    "\n",
    "    return diagonal_matrix\n",
    "\n",
    "def reverse_diagonal_matrix(matrix):\n",
    "    matrix = np.array([list(row) for row in matrix])\n",
    "    return diagonal_matrix(matrix[::-1])[::-1]"
   ]
  },
  {
   "cell_type": "code",
   "execution_count": 4,
   "metadata": {},
   "outputs": [],
   "source": [
    "\n",
    "search = 'XMAS'\n",
    "\n",
    "def find_elements_original(matrix, search):\n",
    "    # print('finding original for', matrix)\n",
    "    text = matrix_to_text(matrix)\n",
    "    joined_text = ' '.join(text)\n",
    "    forward_backward = joined_text + ' ' + joined_text[::-1]\n",
    "\n",
    "    # print('forward_backward', forward_backward)\n",
    "    elements_fb = re.findall(search, forward_backward)\n",
    "\n",
    "    updowm_matrix = transpose(matrix)\n",
    "    updown_text = matrix_to_text(updowm_matrix)\n",
    "    # print('updown_text', updown_text)\n",
    "\n",
    "    down_up_matrix = transpose(matrix[::-1])\n",
    "    downup_text = matrix_to_text(down_up_matrix)\n",
    "    # print('downup_text', downup_text)\n",
    "\n",
    "    up_down = ' '.join(updown_text) + ' ' + ' '.join(downup_text)\n",
    "    elements_ud = re.findall(search, up_down)\n",
    "\n",
    "    # print('elements_fb', elements_fb)\n",
    "    # print('elements_ud', elements_ud)\n",
    "\n",
    "    return elements_fb + elements_ud\n",
    "\n",
    "def find_elements_updown(matrix, search):\n",
    "    # print('finding updown for', matrix)\n",
    "\n",
    "    diagonal_matrix_ = matrix\n",
    "    # print('diagonal_matrix_ \\n', diagonal_matrix_)\n",
    "\n",
    "    diagonal_updown_matrix = transpose(diagonal_matrix_)\n",
    "    diagonal_updown_text = matrix_to_text(diagonal_updown_matrix)\n",
    "    diagonal_updown = ' '.join(diagonal_updown_text)\n",
    "    # print('diagonal_updown', diagonal_updown)\n",
    "\n",
    "    diagonal_downup_matrix = transpose(diagonal_matrix_[::-1])\n",
    "    diagonal_downup_text = matrix_to_text(diagonal_downup_matrix)\n",
    "    diagonal_downup = ' '.join(diagonal_downup_text)\n",
    "    # print('diagonal_downup', diagonal_downup)\n",
    "\n",
    "    total_diagonal = diagonal_updown + ' ' + diagonal_downup\n",
    "    elements_diag = re.findall(search, total_diagonal)\n",
    "\n",
    "    # print('elements_diag', elements_diag)\n",
    "\n",
    "    return elements_diag\n",
    "\n",
    "def find_elements_diagonal_total(matrix, search):\n",
    "    diagonal_matrix_ = diagonal_matrix(matrix)\n",
    "    reverse_diagonal_matrix_ = reverse_diagonal_matrix(matrix)\n",
    "\n",
    "    return find_elements_updown(diagonal_matrix_, search) + find_elements_updown(reverse_diagonal_matrix_, search)\n",
    "\n",
    "def find_total_elements(matrix, search):\n",
    "    return find_elements_original(matrix, search) + find_elements_diagonal_total(matrix, search)\n",
    "\n"
   ]
  },
  {
   "cell_type": "code",
   "execution_count": 5,
   "metadata": {},
   "outputs": [
    {
     "data": {
      "text/plain": [
       "2562"
      ]
     },
     "execution_count": 5,
     "metadata": {},
     "output_type": "execute_result"
    }
   ],
   "source": [
    "len(find_total_elements(text_to_matrix(data), search))"
   ]
  },
  {
   "cell_type": "code",
   "execution_count": null,
   "metadata": {},
   "outputs": [
    {
     "data": {
      "text/plain": [
       "1902"
      ]
     },
     "execution_count": 7,
     "metadata": {},
     "output_type": "execute_result"
    }
   ],
   "source": [
    "#part 2\n",
    "def find_xmas(matrix):\n",
    "    # text2_matrix = matrix\n",
    "    count = 0\n",
    "    for i, row in enumerate(matrix):\n",
    "        if i == 0 or i == len(matrix)-1:\n",
    "            continue\n",
    "        for j in range(1,len(row)-1):\n",
    "            \n",
    "            if row[j] == 'A':\n",
    "                ul = matrix[i-1][j-1]\n",
    "                ur = matrix[i-1][j+1]\n",
    "                bl = matrix[i+1][j-1]\n",
    "                br = matrix[i+1][j+1]\n",
    "\n",
    "                #both m at left\n",
    "                if ul == bl == 'M' and ur == br == 'S':\n",
    "                    count += 1\n",
    "\n",
    "                #both m at right\n",
    "                if ur == br == 'M' and ul == bl == 'S':\n",
    "                    count += 1\n",
    "\n",
    "                #both m at top\n",
    "                if ul == ur == 'M' and bl == br == 'S':\n",
    "                    count += 1\n",
    "                \n",
    "                #both m at bottom\n",
    "                if bl == br == 'M' and ul == ur == 'S':\n",
    "                    count += 1\n",
    "\n",
    "                \n",
    "    return count\n",
    "\n",
    "data_matrix = text_to_matrix(data)\n",
    "find_xmas(data_matrix)"
   ]
  },
  {
   "cell_type": "code",
   "execution_count": null,
   "metadata": {},
   "outputs": [],
   "source": [
    "\n"
   ]
  },
  {
   "cell_type": "code",
   "execution_count": null,
   "metadata": {},
   "outputs": [],
   "source": []
  },
  {
   "cell_type": "code",
   "execution_count": null,
   "metadata": {},
   "outputs": [],
   "source": []
  },
  {
   "cell_type": "code",
   "execution_count": null,
   "metadata": {},
   "outputs": [],
   "source": []
  },
  {
   "cell_type": "code",
   "execution_count": null,
   "metadata": {},
   "outputs": [],
   "source": []
  },
  {
   "cell_type": "code",
   "execution_count": null,
   "metadata": {},
   "outputs": [],
   "source": []
  },
  {
   "cell_type": "code",
   "execution_count": null,
   "metadata": {},
   "outputs": [],
   "source": []
  },
  {
   "cell_type": "code",
   "execution_count": null,
   "metadata": {},
   "outputs": [],
   "source": []
  },
  {
   "cell_type": "code",
   "execution_count": null,
   "metadata": {},
   "outputs": [],
   "source": []
  },
  {
   "cell_type": "code",
   "execution_count": null,
   "metadata": {},
   "outputs": [],
   "source": []
  },
  {
   "cell_type": "code",
   "execution_count": null,
   "metadata": {},
   "outputs": [],
   "source": []
  },
  {
   "cell_type": "code",
   "execution_count": null,
   "metadata": {},
   "outputs": [],
   "source": []
  },
  {
   "cell_type": "code",
   "execution_count": null,
   "metadata": {},
   "outputs": [],
   "source": []
  },
  {
   "cell_type": "code",
   "execution_count": null,
   "metadata": {},
   "outputs": [],
   "source": []
  },
  {
   "cell_type": "code",
   "execution_count": null,
   "metadata": {},
   "outputs": [
    {
     "data": {
      "text/plain": [
       "['16a', '27b', '38c', '49d', '50e']"
      ]
     },
     "execution_count": 60,
     "metadata": {},
     "output_type": "execute_result"
    }
   ],
   "source": [
    "# def transpose_and_text(text):\n",
    "#     text = np.array([list(t) for t in text])\n",
    "#     text = text.T\n",
    "#     text = [''.join(t) for t in text]\n",
    "#     return text\n",
    "\n",
    "# def diagonal_matrix(a):\n",
    "#     len_y = len(a[0]) + len(a) - 1\n",
    "#     len_x = len(a)\n",
    "#     a = np.array([list(row) for row in a])\n",
    "#     matrix = np.zeros((len_x, len_y), dtype=str)\n",
    "#     for i in range(len_x):\n",
    "#         for j in range(len_y):\n",
    "#             if j >= i and j < i + len(a[0]):\n",
    "#                 matrix[i][j] = a[i][j - i]\n",
    "#             else:\n",
    "#                 matrix[i][j] = '.'\n",
    "\n",
    "#     text_list = [''.join(row).rstrip() for row in matrix]\n",
    "\n",
    "#     return text_list\n",
    "\n",
    "\n",
    "# def reverse_diagonal_matrix(a):\n",
    "#     a = np.array([list(row) for row in a])\n",
    "#     return diagonal_matrix(a[::-1])[::-1]\n",
    "\n",
    "# transpose_and_text(a)"
   ]
  },
  {
   "cell_type": "code",
   "execution_count": 61,
   "metadata": {},
   "outputs": [],
   "source": [
    "# a = ['12345', '67890', 'abcde']\n",
    "# b = []\n",
    "# # matrix from a\n",
    "# for i in a:\n",
    "#     b.append(list(i))\n",
    "\n",
    "# #transpose b and create text\n",
    "# b = np.array(b).T.tolist()\n",
    "# text = []\n",
    "# for i in b:\n",
    "#     text.append(''.join(i))\n",
    "\n",
    "# text"
   ]
  },
  {
   "cell_type": "code",
   "execution_count": null,
   "metadata": {},
   "outputs": [
    {
     "data": {
      "text/plain": [
       "['XMAS', 'XMAS', 'XMAS', 'XMAS', 'XMAS', 'XMAS', 'XMAS']"
      ]
     },
     "execution_count": 62,
     "metadata": {},
     "output_type": "execute_result"
    }
   ],
   "source": [
    "\n",
    "\n",
    "# diagonal_matrix_ = diagonal_matrix(text)\n",
    "# reverse_diagonal_matrix_ = reverse_diagonal_matrix(text)\n",
    "\n",
    "\n",
    "\n",
    "# # elements_fb, elements_ud\n",
    "# # up_dowm_text\n",
    "# find_elements(diagonal_matrix_, search)"
   ]
  },
  {
   "cell_type": "code",
   "execution_count": 3,
   "metadata": {},
   "outputs": [
    {
     "ename": "NameError",
     "evalue": "name 'text' is not defined",
     "output_type": "error",
     "traceback": [
      "\u001b[0;31m---------------------------------------------------------------------------\u001b[0m",
      "\u001b[0;31mNameError\u001b[0m                                 Traceback (most recent call last)",
      "Cell \u001b[0;32mIn[3], line 46\u001b[0m\n\u001b[1;32m     43\u001b[0m \u001b[38;5;28;01mdef\u001b[39;00m \u001b[38;5;21mreverse_diagonal_matrix\u001b[39m(a):\n\u001b[1;32m     44\u001b[0m     \u001b[38;5;28;01mreturn\u001b[39;00m diagonal_matrix(a[::\u001b[38;5;241m-\u001b[39m\u001b[38;5;241m1\u001b[39m])[::\u001b[38;5;241m-\u001b[39m\u001b[38;5;241m1\u001b[39m]\n\u001b[0;32m---> 46\u001b[0m new_text \u001b[38;5;241m=\u001b[39m reverse_diagonal_matrix(\u001b[43mtext\u001b[49m) \u001b[38;5;241m+\u001b[39m diagonal_matrix(text)\n\u001b[1;32m     47\u001b[0m \u001b[38;5;66;03m# find_elements(new_text, search)\u001b[39;00m\n\u001b[1;32m     48\u001b[0m new_text\n",
      "\u001b[0;31mNameError\u001b[0m: name 'text' is not defined"
     ]
    }
   ],
   "source": [
    "#change matrix to diagonal\n",
    "a = ['12345', '67890', 'abcde']\n",
    "\n",
    "\n",
    "\n",
    "\n",
    "# matrix = np.zeros((len_x, len_y), dtype=str)\n",
    "\n",
    "# def diagonal_matrix(a):\n",
    "#     len_y = len(a[0]) + len(a) - 1\n",
    "#     len_x = len(a)\n",
    "#     a = np.array([list(row) for row in a])\n",
    "#     matrix = np.zeros((len_x, len_y), dtype=str)\n",
    "#     for i in range(len_x):\n",
    "#         for j in range(len_y):\n",
    "#             if j >= i and j < i + len(a[0]):\n",
    "#                 matrix[i][j] = a[i][j - i]\n",
    "#             else:\n",
    "#                 matrix[i][j] = '.'\n",
    "\n",
    "#     text_list = [''.join(row).rstrip() for row in matrix]\n",
    "\n",
    "#     return text_list\n",
    "# len_y = len(a[0]) + len(a) - 1\n",
    "# len_x = len(a)\n",
    "# a = np.array([list(row) for row in a])\n",
    "# for i in range(len_x):\n",
    "#     for j in range(len_y):\n",
    "#         if j >= i and j < i + len(a[0]):\n",
    "#             matrix[i][j] = a[i][j - i]\n",
    "#         else:\n",
    "#             matrix[i][j] = '.'\n",
    "\n",
    "# # matrix, a\n",
    "\n",
    "# # Convert the matrix to a list of strings\n",
    "# text_list = [''.join(row).rstrip() for row in matrix]\n",
    "\n",
    "# # Print the list of strings\n",
    "# print(\"List of strings:\")\n",
    "# print(text_list)\n",
    "\n",
    "def reverse_diagonal_matrix(a):\n",
    "    return diagonal_matrix(a[::-1])[::-1]\n",
    "\n",
    "new_text = reverse_diagonal_matrix(text) + diagonal_matrix(text)\n",
    "# find_elements(new_text, search)\n",
    "new_text"
   ]
  },
  {
   "cell_type": "code",
   "execution_count": 4,
   "metadata": {},
   "outputs": [
    {
     "ename": "NameError",
     "evalue": "name 'text' is not defined",
     "output_type": "error",
     "traceback": [
      "\u001b[0;31m---------------------------------------------------------------------------\u001b[0m",
      "\u001b[0;31mNameError\u001b[0m                                 Traceback (most recent call last)",
      "Cell \u001b[0;32mIn[4], line 1\u001b[0m\n\u001b[0;32m----> 1\u001b[0m \u001b[43mtext\u001b[49m\n",
      "\u001b[0;31mNameError\u001b[0m: name 'text' is not defined"
     ]
    }
   ],
   "source": [
    "text"
   ]
  },
  {
   "cell_type": "code",
   "execution_count": 5,
   "metadata": {},
   "outputs": [
    {
     "data": {
      "text/plain": [
       "['abcde', '67890', '12345']"
      ]
     },
     "execution_count": 5,
     "metadata": {},
     "output_type": "execute_result"
    }
   ],
   "source": [
    "a = ['12345', '67890', 'abcde']\n",
    "a[::-1]"
   ]
  },
  {
   "cell_type": "code",
   "execution_count": 6,
   "metadata": {},
   "outputs": [],
   "source": [
    "# search = 'XMAS'\n",
    "\n",
    "# def find_elements(text, search):\n",
    "#     joined_text = ''.join(text)\n",
    "#     # forward_backward = joined_text + joined_text[::-1]\n",
    "#     forward = joined_text\n",
    "#     backward = joined_text[::-1]\n",
    "\n",
    "#     up_down = transpose_and_text(text)\n",
    "#     down_up = up_down[::-1]\n",
    "\n",
    "#     elements_f = re.findall(search, forward)\n",
    "#     elements_b = re.findall(search, backward)\n",
    "#     elements_u = re.findall(search, ''.join(up_down))\n",
    "#     elements_d = re.findall(search, ''.join(down_up))\n",
    "\n",
    "#     # up_dowm_text = transpose_and_text(text)\n",
    "#     # up_down = ''.join(up_dowm_text) + ''.join(up_dowm_text[::-1]) \n",
    "\n",
    "#     # elements_fb = re.findall(search, forward_backward)\n",
    "#     # elements_ud = re.findall(search, up_down)\n",
    "\n",
    "#     return elements_f + elements_b + elements_u + elements_d\n",
    "\n",
    "# def find_elements_up_down_only(text, search):\n",
    "#     up_dowm_text = transpose_and_text(text)\n",
    "#     up_down = ''.join(up_dowm_text)\n",
    "#     down_up = ''.join(up_dowm_text[::-1])\n",
    "\n",
    "#     elements_ud = re.findall(search, up_down)\n",
    "#     elements_du = re.findall(search, down_up)\n",
    "\n",
    "#     return elements_ud + elements_du\n",
    "\n",
    "# def find_elements_diagonal(text, search):\n",
    "#     diagonal_matrix_ = diagonal_matrix(text)\n",
    "#     reverse_diagonal_matrix_ = reverse_diagonal_matrix(text)\n",
    "\n",
    "#     print(diagonal_matrix_)\n",
    "#     print(reverse_diagonal_matrix_)\n",
    "#     elements_diag = find_elements_up_down_only(diagonal_matrix_, search)\n",
    "#     elements_rev_diag = find_elements_up_down_only(reverse_diagonal_matrix_, search)\n",
    "\n",
    "#     return elements_diag + elements_rev_diag\n",
    "\n",
    "\n",
    "\n",
    "# # def find_elements_diagonal(text, search):\n",
    "# #     diagonal_matrix_ = diagonal_matrix(text)\n",
    "# #     reverse_diagonal_matrix_ = reverse_diagonal_matrix(text)\n",
    "\n",
    "# #     up_dowm_text_diag = transpose_and_text(diagonal_matrix_)\n",
    "# #     up_down = ''.join(up_dowm_text_diag) + ''.join(up_dowm_text_diag[::-1]) \n",
    "\n",
    "# #     up_dowm_text_rev_diag = transpose_and_text(reverse_diagonal_matrix_)\n",
    "# #     up_down_rev = ''.join(up_dowm_text_rev_diag) + ''.join(up_dowm_text_rev_diag[::-1])\n",
    "\n",
    "# #     elements_fb = re.findall(search, up_down)\n",
    "# #     elements_ud = re.findall(search, up_down_rev)\n",
    "\n",
    "# #     return elements_ud + elements_fb\n",
    "\n",
    "\n",
    "\n",
    "# find_elements(text, search), find_elements_diagonal(text, search)"
   ]
  },
  {
   "cell_type": "code",
   "execution_count": 7,
   "metadata": {},
   "outputs": [
    {
     "ename": "NameError",
     "evalue": "name 'text_' is not defined",
     "output_type": "error",
     "traceback": [
      "\u001b[0;31m---------------------------------------------------------------------------\u001b[0m",
      "\u001b[0;31mNameError\u001b[0m                                 Traceback (most recent call last)",
      "Cell \u001b[0;32mIn[7], line 1\u001b[0m\n\u001b[0;32m----> 1\u001b[0m \u001b[43mtext_\u001b[49m, find_elements(text_, search)\n",
      "\u001b[0;31mNameError\u001b[0m: name 'text_' is not defined"
     ]
    }
   ],
   "source": [
    "text_, find_elements(text_, search)"
   ]
  },
  {
   "cell_type": "code",
   "execution_count": 8,
   "metadata": {},
   "outputs": [
    {
     "ename": "NameError",
     "evalue": "name 'diagonal_matrix' is not defined",
     "output_type": "error",
     "traceback": [
      "\u001b[0;31m---------------------------------------------------------------------------\u001b[0m",
      "\u001b[0;31mNameError\u001b[0m                                 Traceback (most recent call last)",
      "Cell \u001b[0;32mIn[8], line 1\u001b[0m\n\u001b[0;32m----> 1\u001b[0m \u001b[43mdiagonal_matrix\u001b[49m(text), find_elements_up_down_only(diagonal_matrix(text), search)\n",
      "\u001b[0;31mNameError\u001b[0m: name 'diagonal_matrix' is not defined"
     ]
    }
   ],
   "source": [
    "diagonal_matrix(text), find_elements_up_down_only(diagonal_matrix(text), search)"
   ]
  },
  {
   "cell_type": "code",
   "execution_count": 9,
   "metadata": {},
   "outputs": [
    {
     "ename": "NameError",
     "evalue": "name 'text' is not defined",
     "output_type": "error",
     "traceback": [
      "\u001b[0;31m---------------------------------------------------------------------------\u001b[0m",
      "\u001b[0;31mNameError\u001b[0m                                 Traceback (most recent call last)",
      "Cell \u001b[0;32mIn[9], line 1\u001b[0m\n\u001b[0;32m----> 1\u001b[0m reverse_diagonal_matrix(\u001b[43mtext\u001b[49m), find_elements_up_down_only(reverse_diagonal_matrix(text), search)\n",
      "\u001b[0;31mNameError\u001b[0m: name 'text' is not defined"
     ]
    }
   ],
   "source": [
    "reverse_diagonal_matrix(text), find_elements_up_down_only(reverse_diagonal_matrix(text), search)"
   ]
  },
  {
   "cell_type": "code",
   "execution_count": 10,
   "metadata": {},
   "outputs": [],
   "source": [
    "text_= [\n",
    "    \"....XXMAS.\",\n",
    "    \".SAMXMS...\",\n",
    "    \"...S..A...\",\n",
    "    \"..A.A.MS.X\",\n",
    "    \"XMASAMX.MM\",\n",
    "    \"X.....XA.A\",\n",
    "    \"S.S.S.S.SS\",\n",
    "    \".A.A.A.A.A\",\n",
    "    \"..M.M.M.MM\",\n",
    "    \".X.X.XMASX\"\n",
    "]"
   ]
  },
  {
   "cell_type": "code",
   "execution_count": 14,
   "metadata": {},
   "outputs": [],
   "source": [
    "# find_elements_original(text_to_matrix(text_), search), text_"
   ]
  },
  {
   "cell_type": "code",
   "execution_count": 16,
   "metadata": {},
   "outputs": [],
   "source": [
    "# transpose(text_to_matrix(text)), diagonal_matrix(text_to_matrix(text_)), reverse_diagonal_matrix(text_to_matrix(text))"
   ]
  },
  {
   "cell_type": "code",
   "execution_count": null,
   "metadata": {},
   "outputs": [],
   "source": [
    "proto_text = ['..X...', \n",
    "              '.SAMX.', \n",
    "              '.A..A.',\n",
    "              'XMAS.S',\n",
    "              '.X....']"
   ]
  },
  {
   "cell_type": "code",
   "execution_count": 96,
   "metadata": {},
   "outputs": [
    {
     "data": {
      "text/plain": [
       "(['12345', '67890', 'abcde'],\n",
       " [['1', '2', '3', '4', '5'],\n",
       "  ['6', '7', '8', '9', '0'],\n",
       "  ['a', 'b', 'c', 'd', 'e']],\n",
       " ['12345', '67890', 'abcde'],\n",
       " [['1', '6', 'a'],\n",
       "  ['2', '7', 'b'],\n",
       "  ['3', '8', 'c'],\n",
       "  ['4', '9', 'd'],\n",
       "  ['5', '0', 'e']],\n",
       " array([['1', '2', '3', '4', '5', '.', '.'],\n",
       "        ['.', '6', '7', '8', '9', '0', '.'],\n",
       "        ['.', '.', 'a', 'b', 'c', 'd', 'e']], dtype='<U1'))"
      ]
     },
     "execution_count": 96,
     "metadata": {},
     "output_type": "execute_result"
    }
   ],
   "source": [
    "a = ['12345', '67890', 'abcde']\n",
    "\n",
    "a_matrix = text_to_matrix(a)\n",
    "a, a_matrix, matrix_to_text(a_matrix), transpose(a_matrix), diagonal_matrix(a_matrix)"
   ]
  },
  {
   "cell_type": "code",
   "execution_count": 100,
   "metadata": {},
   "outputs": [
    {
     "data": {
      "text/plain": [
       "'12345 67890 abcde'"
      ]
     },
     "execution_count": 100,
     "metadata": {},
     "output_type": "execute_result"
    }
   ],
   "source": [
    "text = matrix_to_text(a_matrix)\n",
    "joined_text = ' '.join(text)\n",
    "joined_text"
   ]
  },
  {
   "cell_type": "code",
   "execution_count": 219,
   "metadata": {},
   "outputs": [],
   "source": [
    "text_2 = [\n",
    "'.M.S......',\n",
    "'..A..MSMS.',\n",
    "'.M.S.MAA..',\n",
    "'..A.ASMSM.',\n",
    "'.M.S.M....',\n",
    "'..........',\n",
    "'S.S.S.S.S.',\n",
    "'.A.A.A.A..',\n",
    "'M.M.M.M.M.',\n",
    "'..........']"
   ]
  },
  {
   "cell_type": "code",
   "execution_count": 230,
   "metadata": {},
   "outputs": [
    {
     "data": {
      "text/plain": [
       "array([['.', '.', '.', '.', '.', '.', 'S', '.', 'M', '.'],\n",
       "       ['M', '.', 'M', '.', 'M', '.', '.', 'A', '.', '.'],\n",
       "       ['.', 'A', '.', 'A', '.', '.', 'S', '.', 'M', '.'],\n",
       "       ['S', '.', 'S', '.', 'S', '.', '.', 'A', '.', '.'],\n",
       "       ['.', '.', '.', 'A', '.', '.', 'S', '.', 'M', '.'],\n",
       "       ['.', 'M', 'M', 'S', 'M', '.', '.', 'A', '.', '.'],\n",
       "       ['.', 'S', 'A', 'M', '.', '.', 'S', '.', 'M', '.'],\n",
       "       ['.', 'M', 'A', 'S', '.', '.', '.', 'A', '.', '.'],\n",
       "       ['.', 'S', '.', 'M', '.', '.', 'S', '.', 'M', '.'],\n",
       "       ['.', '.', '.', '.', '.', '.', '.', '.', '.', '.']], dtype='<U1')"
      ]
     },
     "execution_count": 230,
     "metadata": {},
     "output_type": "execute_result"
    }
   ],
   "source": [
    "text2_matrix = np.array(text_to_matrix(text_2))\n",
    "text2_matrix.T"
   ]
  },
  {
   "cell_type": "code",
   "execution_count": 247,
   "metadata": {},
   "outputs": [
    {
     "data": {
      "text/plain": [
       "array([['S', 'A', 'S', ..., 'A', 'M', 'X'],\n",
       "       ['A', 'A', 'S', ..., 'A', 'M', 'A'],\n",
       "       ['M', 'X', 'M', ..., 'A', 'M', 'A'],\n",
       "       ...,\n",
       "       ['X', 'X', 'A', ..., 'S', 'X', 'M'],\n",
       "       ['M', 'M', 'M', ..., 'M', 'M', 'S'],\n",
       "       ['X', 'M', 'M', ..., 'X', 'S', 'X']], dtype='<U1')"
      ]
     },
     "execution_count": 247,
     "metadata": {},
     "output_type": "execute_result"
    }
   ],
   "source": [
    "data_matrix = np.array(text_to_matrix(data))\n",
    "np.shape(data_matrix)\n",
    "data_matrix"
   ]
  },
  {
   "cell_type": "code",
   "execution_count": 227,
   "metadata": {},
   "outputs": [
    {
     "data": {
      "text/plain": [
       "(array([[1, 2, 3],\n",
       "        [4, 5, 6],\n",
       "        [7, 8, 9]]),\n",
       " array([[7, 8, 9],\n",
       "        [4, 5, 6],\n",
       "        [1, 2, 3]]),\n",
       " array([[1, 4, 7],\n",
       "        [2, 5, 8],\n",
       "        [3, 6, 9]]),\n",
       " array([[3, 6, 9],\n",
       "        [2, 5, 8],\n",
       "        [1, 4, 7]]))"
      ]
     },
     "execution_count": 227,
     "metadata": {},
     "output_type": "execute_result"
    }
   ],
   "source": [
    "test_matrix = np.array([[1, 2, 3],\n",
    "                [4, 5, 6],\n",
    "                [7, 8, 9]])\n",
    "test_matrix, test_matrix[::-1], test_matrix.T, test_matrix.T[::-1]"
   ]
  },
  {
   "cell_type": "code",
   "execution_count": 217,
   "metadata": {},
   "outputs": [
    {
     "data": {
      "text/plain": [
       "2"
      ]
     },
     "execution_count": 217,
     "metadata": {},
     "output_type": "execute_result"
    }
   ],
   "source": [
    "find_xmas(text2_matrix)"
   ]
  },
  {
   "cell_type": "code",
   "execution_count": 194,
   "metadata": {},
   "outputs": [
    {
     "data": {
      "text/plain": [
       "range(1, 10)"
      ]
     },
     "execution_count": 194,
     "metadata": {},
     "output_type": "execute_result"
    }
   ],
   "source": [
    "range(1, len(text_2[0]))"
   ]
  },
  {
   "cell_type": "code",
   "execution_count": null,
   "metadata": {},
   "outputs": [],
   "source": []
  }
 ],
 "metadata": {
  "kernelspec": {
   "display_name": "ubx_gnss_env",
   "language": "python",
   "name": "python3"
  },
  "language_info": {
   "codemirror_mode": {
    "name": "ipython",
    "version": 3
   },
   "file_extension": ".py",
   "mimetype": "text/x-python",
   "name": "python",
   "nbconvert_exporter": "python",
   "pygments_lexer": "ipython3",
   "version": "3.9.2"
  }
 },
 "nbformat": 4,
 "nbformat_minor": 2
}

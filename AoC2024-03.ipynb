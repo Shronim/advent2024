{
 "cells": [
  {
   "cell_type": "code",
   "execution_count": null,
   "metadata": {},
   "outputs": [],
   "source": [
    "import numpy as np\n",
    "import re"
   ]
  },
  {
   "cell_type": "code",
   "execution_count": 83,
   "metadata": {},
   "outputs": [],
   "source": [
    "file = 'advent2024_3.txt'\n",
    "with open(file, 'r') as f:\n",
    "    real_data = f.read()"
   ]
  },
  {
   "cell_type": "code",
   "execution_count": 84,
   "metadata": {},
   "outputs": [],
   "source": [
    "trial_text = 'xmul(2,4)%&mul[3,7]!@^do_not_mul(5,5)+mul(32,64]then(mul(11,8)mul(8,5))'"
   ]
  },
  {
   "cell_type": "code",
   "execution_count": 85,
   "metadata": {},
   "outputs": [
    {
     "data": {
      "text/plain": [
       "164730528"
      ]
     },
     "execution_count": 85,
     "metadata": {},
     "output_type": "execute_result"
    }
   ],
   "source": [
    "elements = re.findall(r'mul\\(\\d+,\\d+\\)', real_data)\n",
    "output = []\n",
    "for element in elements:\n",
    "    # print(element)\n",
    "    numbers = re.findall(r'\\d+', element)\n",
    "    # print(numbers)\n",
    "    output.append(int(numbers[0]) * int(numbers[1]))\n",
    "\n",
    "np.sum(np.array(output))\n",
    "\n"
   ]
  },
  {
   "cell_type": "code",
   "execution_count": 86,
   "metadata": {},
   "outputs": [
    {
     "data": {
      "text/plain": [
       "70478672"
      ]
     },
     "execution_count": 86,
     "metadata": {},
     "output_type": "execute_result"
    }
   ],
   "source": [
    "#Second part\n",
    "\n",
    "elements = re.findall(r'mul\\(\\d+,\\d+\\)|don\\'t\\(\\)|do\\(\\)', real_data)\n",
    "\n",
    "second_valid = []\n",
    "action = True\n",
    "for element in elements:\n",
    "    # print(element)\n",
    "    if action:\n",
    "        if element != 'do()' and element != 'don\\'t()':\n",
    "            second_valid.append(element)\n",
    "    if element == 'don\\'t()':\n",
    "        action = False\n",
    "        # print('action:', action)\n",
    "    if element == 'do()':\n",
    "        action = True\n",
    "        # print('action: true', action)\n",
    "\n",
    "\n",
    "output = []\n",
    "for element in second_valid:\n",
    "    numbers = re.findall(r'\\d+', element)\n",
    "    output.append(int(numbers[0]) * int(numbers[1]))\n",
    "\n",
    "np.sum(np.array(output))"
   ]
  },
  {
   "cell_type": "code",
   "execution_count": null,
   "metadata": {},
   "outputs": [],
   "source": []
  },
  {
   "cell_type": "code",
   "execution_count": null,
   "metadata": {},
   "outputs": [],
   "source": []
  },
  {
   "cell_type": "code",
   "execution_count": null,
   "metadata": {},
   "outputs": [],
   "source": []
  },
  {
   "cell_type": "code",
   "execution_count": null,
   "metadata": {},
   "outputs": [],
   "source": []
  },
  {
   "cell_type": "code",
   "execution_count": null,
   "metadata": {},
   "outputs": [],
   "source": []
  },
  {
   "cell_type": "code",
   "execution_count": null,
   "metadata": {},
   "outputs": [
    {
     "name": "stdout",
     "output_type": "stream",
     "text": [
      "mul(2,4)%&mul[3,7]!@^do_not_mul(5,5)+mul(32,64]then(mul(11,8)mul(8,5))\n"
     ]
    },
    {
     "data": {
      "text/plain": [
       "[]"
      ]
     },
     "metadata": {},
     "output_type": "display_data"
    }
   ],
   "source": [
    "# check_words = ['mul']\n",
    "# text = trial_text\n",
    "\n",
    "# def get_data(text):\n",
    "#     data = []\n",
    "#     for word in check_words:\n",
    "#         # print(word)\n",
    "#         if word in text:\n",
    "#             append_data = text[text.find(word):]\n",
    "#             # data.append(text[text.find(word):])\n",
    "#             print(append_data)\n",
    "#     return data\n",
    "\n",
    "# get_data(text)"
   ]
  },
  {
   "cell_type": "code",
   "execution_count": null,
   "metadata": {},
   "outputs": [],
   "source": [
    "# text = real_data\n",
    "# # text = trial_text\n",
    "# muls = text.split('mul')\n",
    "\n",
    "# output = []\n",
    "\n",
    "# for mul in muls:\n",
    "#     print(\"found mul:\", mul)\n",
    "#     if mul[0] == '(':\n",
    "#         # print(mul)\n",
    "#         split_mul = mul.split(',')\n",
    "#         # print(mul, split_mul)\n",
    "#         # print(mul[1:mul.find(')')])\n",
    "#         split__ = mul[1:mul.find(')')].split(',')\n",
    "#         print(\"test: \", split__)\n",
    "#         numbers = []\n",
    "#         for i in split__:\n",
    "#             try:\n",
    "#                 # print(int(i))\n",
    "#                 numbers.append(int(i))\n",
    "#             except:\n",
    "#                 pass\n",
    "#             # print(int(i), i)\n",
    "#         print(numbers)\n",
    "#         if len(numbers) == 2:\n",
    "#             output.append(numbers[0] * numbers[1])\n",
    "\n",
    "# np.sum(np.array(output))\n",
    "   \n"
   ]
  },
  {
   "cell_type": "code",
   "execution_count": null,
   "metadata": {},
   "outputs": [],
   "source": []
  },
  {
   "cell_type": "code",
   "execution_count": null,
   "metadata": {},
   "outputs": [],
   "source": []
  }
 ],
 "metadata": {
  "kernelspec": {
   "display_name": "ubx_gnss_env",
   "language": "python",
   "name": "python3"
  },
  "language_info": {
   "codemirror_mode": {
    "name": "ipython",
    "version": 3
   },
   "file_extension": ".py",
   "mimetype": "text/x-python",
   "name": "python",
   "nbconvert_exporter": "python",
   "pygments_lexer": "ipython3",
   "version": "3.9.2"
  }
 },
 "nbformat": 4,
 "nbformat_minor": 2
}
